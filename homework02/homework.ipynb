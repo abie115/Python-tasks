{
 "cells": [
  {
   "cell_type": "markdown",
   "metadata": {},
   "source": [
    "# Python: Drugie zadanie domowe"
   ]
  },
  {
   "cell_type": "markdown",
   "metadata": {},
   "source": [
    "Drugie zadanie domowe będzie polegać na opracowaniu danych zawartych w pliku `gapminder.csv`, który znajduje się w tym katalogu (proszę wykorzystać ten plik, a nie ten w katalogu labs04). Ten arkusz poprowadzi Cię krok po kroku po zadaniu domowym."
   ]
  },
  {
   "cell_type": "code",
   "execution_count": 15,
   "metadata": {},
   "outputs": [],
   "source": [
    "import pandas as pd\n",
    "import matplotlib.pyplot as plt\n",
    "%matplotlib inline"
   ]
  },
  {
   "cell_type": "markdown",
   "metadata": {},
   "source": [
    "**zad. 1** Wczytaj dane do zmiennej `data`, w taki sposób, żeby nazwa Państwa była kluczem."
   ]
  },
  {
   "cell_type": "code",
   "execution_count": 16,
   "metadata": {},
   "outputs": [],
   "source": [
    "data = pd.read_csv(\"gapminder.csv\", index_col=0)"
   ]
  },
  {
   "cell_type": "markdown",
   "metadata": {},
   "source": [
    "**zad. 2** Znajdź najbardziej i najmniej zaludnione państwa na świecie."
   ]
  },
  {
   "cell_type": "code",
   "execution_count": 17,
   "metadata": {},
   "outputs": [
    {
     "data": {
      "text/plain": [
       "('China', 'Antigua and Barbuda')"
      ]
     },
     "execution_count": 17,
     "metadata": {},
     "output_type": "execute_result"
    }
   ],
   "source": [
    "data[\"population\"].idxmax(), data[\"population\"].idxmin() "
   ]
  },
  {
   "cell_type": "markdown",
   "metadata": {},
   "source": [
    "**zad. 3** W ilu państwach współczynnik `female_BMI` jest większy od `male_BMI`."
   ]
  },
  {
   "cell_type": "code",
   "execution_count": 22,
   "metadata": {},
   "outputs": [
    {
     "data": {
      "text/plain": [
       "122"
      ]
     },
     "execution_count": 22,
     "metadata": {},
     "output_type": "execute_result"
    }
   ],
   "source": [
    "data[\"female_BMI\"].loc[data[\"female_BMI\"]>data[\"male_BMI\"]].count()"
   ]
  },
  {
   "cell_type": "markdown",
   "metadata": {},
   "source": [
    "**zad. 4**\n",
    " 1. Zainstaluj bibliotekę `pycountry_convert` i zaimportuj ją.\n",
    " 1. Dodaj do danych kolumnę `continent`, która będzie zawierać nazwę kontynentu, na którym jest położone dane państwo. Wykorzystaj bibliotekę `pycountry_convert`. *Uwaga*: trzeba najpierw uzystać kod państwa w fomacie ISO-2, następnie uzystkać kod kontynentu, a na końcu uzyskać nazwę kontynentu."
   ]
  },
  {
   "cell_type": "code",
   "execution_count": 19,
   "metadata": {
    "scrolled": false
   },
   "outputs": [
    {
     "name": "stdout",
     "output_type": "stream",
     "text": [
      "Requirement already satisfied: pycountry_convert in c:\\programy\\anaconda\\lib\\site-packages (0.7.2)\n",
      "Requirement already satisfied: pytest-cov>=2.5.1 in c:\\programy\\anaconda\\lib\\site-packages (from pycountry_convert) (2.8.1)\n",
      "Requirement already satisfied: pytest-mock>=1.6.3 in c:\\programy\\anaconda\\lib\\site-packages (from pycountry_convert) (2.0.0)\n",
      "Requirement already satisfied: wheel>=0.30.0 in c:\\programy\\anaconda\\lib\\site-packages (from pycountry_convert) (0.33.6)\n",
      "Requirement already satisfied: pprintpp>=0.3.0 in c:\\programy\\anaconda\\lib\\site-packages (from pycountry_convert) (0.4.0)\n",
      "Requirement already satisfied: pytest>=3.4.0 in c:\\programy\\anaconda\\lib\\site-packages (from pycountry_convert) (5.2.1)\n",
      "Requirement already satisfied: pycountry>=16.11.27.1 in c:\\programy\\anaconda\\lib\\site-packages (from pycountry_convert) (19.8.18)\n",
      "Requirement already satisfied: repoze.lru>=0.7 in c:\\programy\\anaconda\\lib\\site-packages (from pycountry_convert) (0.7)\n",
      "Requirement already satisfied: coverage>=4.4 in c:\\programy\\anaconda\\lib\\site-packages (from pytest-cov>=2.5.1->pycountry_convert) (5.0.3)\n",
      "Requirement already satisfied: py>=1.5.0 in c:\\programy\\anaconda\\lib\\site-packages (from pytest>=3.4.0->pycountry_convert) (1.8.0)\n",
      "Requirement already satisfied: packaging in c:\\programy\\anaconda\\lib\\site-packages (from pytest>=3.4.0->pycountry_convert) (19.2)\n",
      "Requirement already satisfied: attrs>=17.4.0 in c:\\programy\\anaconda\\lib\\site-packages (from pytest>=3.4.0->pycountry_convert) (19.2.0)\n",
      "Requirement already satisfied: more-itertools>=4.0.0 in c:\\programy\\anaconda\\lib\\site-packages (from pytest>=3.4.0->pycountry_convert) (7.2.0)\n",
      "Requirement already satisfied: atomicwrites>=1.0 in c:\\programy\\anaconda\\lib\\site-packages (from pytest>=3.4.0->pycountry_convert) (1.3.0)\n",
      "Requirement already satisfied: pluggy<1.0,>=0.12 in c:\\programy\\anaconda\\lib\\site-packages (from pytest>=3.4.0->pycountry_convert) (0.13.0)\n",
      "Requirement already satisfied: wcwidth in c:\\programy\\anaconda\\lib\\site-packages (from pytest>=3.4.0->pycountry_convert) (0.1.7)\n",
      "Requirement already satisfied: importlib-metadata>=0.12 in c:\\programy\\anaconda\\lib\\site-packages (from pytest>=3.4.0->pycountry_convert) (0.23)\n",
      "Requirement already satisfied: colorama in c:\\programy\\anaconda\\lib\\site-packages (from pytest>=3.4.0->pycountry_convert) (0.4.1)\n",
      "Requirement already satisfied: pyparsing>=2.0.2 in c:\\programy\\anaconda\\lib\\site-packages (from packaging->pytest>=3.4.0->pycountry_convert) (2.4.2)\n",
      "Requirement already satisfied: six in c:\\programy\\anaconda\\lib\\site-packages (from packaging->pytest>=3.4.0->pycountry_convert) (1.12.0)\n",
      "Requirement already satisfied: zipp>=0.5 in c:\\programy\\anaconda\\lib\\site-packages (from importlib-metadata>=0.12->pytest>=3.4.0->pycountry_convert) (0.6.0)\n"
     ]
    },
    {
     "data": {
      "text/plain": [
       "Afghanistan                     Asia\n",
       "Albania                       Europe\n",
       "Algeria                       Africa\n",
       "Angola                        Africa\n",
       "Antigua and Barbuda    North America\n",
       "                           ...      \n",
       "Venezuela              South America\n",
       "Vietnam                         Asia\n",
       "Palestine                       Asia\n",
       "Zambia                        Africa\n",
       "Zimbabwe                      Africa\n",
       "Name: continent, Length: 175, dtype: object"
      ]
     },
     "execution_count": 19,
     "metadata": {},
     "output_type": "execute_result"
    }
   ],
   "source": [
    "! pip install pycountry_convert\n",
    "import pycountry_convert\n",
    "conts = []\n",
    "for name in data.index:\n",
    "    country_code = pycountry_convert.convert_countries.country_name_to_country_alpha2(name)\n",
    "    cont_code = pycountry_convert.convert_country_alpha2_to_continent_code.country_alpha2_to_continent_code(country_code)\n",
    "    cont = pycountry_convert.convert_continent_code_to_continent_name(cont_code)\n",
    "    conts.append(cont)\n",
    "    \n",
    "data['continent'] = conts\n",
    "data['continent']"
   ]
  },
  {
   "cell_type": "markdown",
   "metadata": {},
   "source": [
    "**zad. 5**\n",
    "Oblicz ile osób mieszka na każdym z kontynentów."
   ]
  },
  {
   "cell_type": "code",
   "execution_count": 20,
   "metadata": {},
   "outputs": [
    {
     "data": {
      "text/html": [
       "<div>\n",
       "<style scoped>\n",
       "    .dataframe tbody tr th:only-of-type {\n",
       "        vertical-align: middle;\n",
       "    }\n",
       "\n",
       "    .dataframe tbody tr th {\n",
       "        vertical-align: top;\n",
       "    }\n",
       "\n",
       "    .dataframe thead th {\n",
       "        text-align: right;\n",
       "    }\n",
       "</style>\n",
       "<table border=\"1\" class=\"dataframe\">\n",
       "  <thead>\n",
       "    <tr style=\"text-align: right;\">\n",
       "      <th></th>\n",
       "      <th>female_BMI</th>\n",
       "      <th>male_BMI</th>\n",
       "      <th>gdp</th>\n",
       "      <th>population</th>\n",
       "      <th>under5mortality</th>\n",
       "      <th>life_expectancy</th>\n",
       "      <th>fertility</th>\n",
       "    </tr>\n",
       "    <tr>\n",
       "      <th>continent</th>\n",
       "      <th></th>\n",
       "      <th></th>\n",
       "      <th></th>\n",
       "      <th></th>\n",
       "      <th></th>\n",
       "      <th></th>\n",
       "      <th></th>\n",
       "    </tr>\n",
       "  </thead>\n",
       "  <tbody>\n",
       "    <tr>\n",
       "      <td>Africa</td>\n",
       "      <td>1259.33213</td>\n",
       "      <td>1181.44512</td>\n",
       "      <td>280335.0</td>\n",
       "      <td>9.772803e+08</td>\n",
       "      <td>4763.00</td>\n",
       "      <td>3136.10</td>\n",
       "      <td>246.50</td>\n",
       "    </tr>\n",
       "    <tr>\n",
       "      <td>Asia</td>\n",
       "      <td>1114.28765</td>\n",
       "      <td>1084.74598</td>\n",
       "      <td>1038232.0</td>\n",
       "      <td>3.949400e+09</td>\n",
       "      <td>1302.98</td>\n",
       "      <td>3201.41</td>\n",
       "      <td>108.48</td>\n",
       "    </tr>\n",
       "    <tr>\n",
       "      <td>Europe</td>\n",
       "      <td>980.30978</td>\n",
       "      <td>1009.60877</td>\n",
       "      <td>1173410.0</td>\n",
       "      <td>7.219954e+08</td>\n",
       "      <td>273.60</td>\n",
       "      <td>2929.30</td>\n",
       "      <td>59.56</td>\n",
       "    </tr>\n",
       "    <tr>\n",
       "      <td>North America</td>\n",
       "      <td>526.06040</td>\n",
       "      <td>497.74034</td>\n",
       "      <td>338430.0</td>\n",
       "      <td>5.235798e+08</td>\n",
       "      <td>392.38</td>\n",
       "      <td>1412.20</td>\n",
       "      <td>45.00</td>\n",
       "    </tr>\n",
       "    <tr>\n",
       "      <td>Oceania</td>\n",
       "      <td>297.20093</td>\n",
       "      <td>279.58957</td>\n",
       "      <td>102803.0</td>\n",
       "      <td>3.425711e+07</td>\n",
       "      <td>310.00</td>\n",
       "      <td>683.20</td>\n",
       "      <td>34.02</td>\n",
       "    </tr>\n",
       "    <tr>\n",
       "      <td>South America</td>\n",
       "      <td>322.37322</td>\n",
       "      <td>308.59791</td>\n",
       "      <td>139888.0</td>\n",
       "      <td>3.881582e+08</td>\n",
       "      <td>288.70</td>\n",
       "      <td>886.80</td>\n",
       "      <td>30.10</td>\n",
       "    </tr>\n",
       "  </tbody>\n",
       "</table>\n",
       "</div>"
      ],
      "text/plain": [
       "               female_BMI    male_BMI        gdp    population  \\\n",
       "continent                                                        \n",
       "Africa         1259.33213  1181.44512   280335.0  9.772803e+08   \n",
       "Asia           1114.28765  1084.74598  1038232.0  3.949400e+09   \n",
       "Europe          980.30978  1009.60877  1173410.0  7.219954e+08   \n",
       "North America   526.06040   497.74034   338430.0  5.235798e+08   \n",
       "Oceania         297.20093   279.58957   102803.0  3.425711e+07   \n",
       "South America   322.37322   308.59791   139888.0  3.881582e+08   \n",
       "\n",
       "               under5mortality  life_expectancy  fertility  \n",
       "continent                                                   \n",
       "Africa                 4763.00          3136.10     246.50  \n",
       "Asia                   1302.98          3201.41     108.48  \n",
       "Europe                  273.60          2929.30      59.56  \n",
       "North America           392.38          1412.20      45.00  \n",
       "Oceania                 310.00           683.20      34.02  \n",
       "South America           288.70           886.80      30.10  "
      ]
     },
     "execution_count": 20,
     "metadata": {},
     "output_type": "execute_result"
    }
   ],
   "source": [
    "data.groupby('continent').sum()"
   ]
  },
  {
   "cell_type": "markdown",
   "metadata": {},
   "source": [
    "**zad. 6** Narysyj wykres słupkowy pokazujący ile państw leży na każdym z kontynentów."
   ]
  },
  {
   "cell_type": "code",
   "execution_count": 7,
   "metadata": {},
   "outputs": [
    {
     "name": "stderr",
     "output_type": "stream",
     "text": [
      "C:\\programy\\anaconda\\lib\\site-packages\\ipykernel_launcher.py:1: FutureWarning: `Series.plot()` should not be called with positional arguments, only keyword arguments. The order of positional arguments will change in the future. Use `Series.plot(kind='bar')` instead of `Series.plot('bar',)`.\n",
      "  \"\"\"Entry point for launching an IPython kernel.\n"
     ]
    },
    {
     "data": {
      "text/plain": [
       "<matplotlib.axes._subplots.AxesSubplot at 0x26195aa3448>"
      ]
     },
     "execution_count": 7,
     "metadata": {},
     "output_type": "execute_result"
    },
    {
     "data": {
      "image/png": "[encoded data removed]",
      "text/plain": [
       "<Figure size 432x288 with 1 Axes>"
      ]
     },
     "metadata": {
      "needs_background": "light"
     },
     "output_type": "display_data"
    }
   ],
   "source": [
    "data.continent.value_counts().plot('bar')"
   ]
  },
  {
   "cell_type": "markdown",
   "metadata": {},
   "source": [
    "**zad. 7** \n",
    " * Kolumna `gdp` zawiera informacje o PKB na obywatela. Stwórz nową kolumnę `gdp_total`, która będzie informować o PKB danego kraju.\n",
    " * Oblicz ile wynosi suma światowego PKB (kolumna `gdp_total`).\n",
    " * Oblicz ile krajów jest odpowiedzialnych za wytworzenie 80% światego PKB."
   ]
  },
  {
   "cell_type": "code",
   "execution_count": 23,
   "metadata": {},
   "outputs": [
    {
     "data": {
      "text/plain": [
       "Afghanistan            3.477918e+10\n",
       "Albania                2.565562e+10\n",
       "Algeria                4.286634e+11\n",
       "Angola                 1.409395e+11\n",
       "Antigua and Barbuda    2.196568e+09\n",
       "                           ...     \n",
       "Venezuela              5.035985e+11\n",
       "Vietnam                3.537175e+11\n",
       "Palestine              1.373803e+10\n",
       "Zambia                 3.985521e+10\n",
       "Zimbabwe               1.735516e+10\n",
       "Name: gdp_total, Length: 175, dtype: float64"
      ]
     },
     "execution_count": 23,
     "metadata": {},
     "output_type": "execute_result"
    }
   ],
   "source": [
    "data[\"gdp_total\"]=data[\"gdp\"]*data[\"population\"]\n",
    "data[\"gdp_total\"]"
   ]
  },
  {
   "cell_type": "code",
   "execution_count": 24,
   "metadata": {},
   "outputs": [
    {
     "data": {
      "text/plain": [
       "83385987338947.0"
      ]
     },
     "execution_count": 24,
     "metadata": {},
     "output_type": "execute_result"
    }
   ],
   "source": [
    "sum(data[\"gdp_total\"])"
   ]
  },
  {
   "cell_type": "code",
   "execution_count": 25,
   "metadata": {},
   "outputs": [
    {
     "data": {
      "text/plain": [
       "24"
      ]
     },
     "execution_count": 25,
     "metadata": {},
     "output_type": "execute_result"
    }
   ],
   "source": [
    "sorted_PKB=data.sort_values(\"gdp_total\",ascending=False)\n",
    "tmp_sum=0\n",
    "procent=0\n",
    "count=0\n",
    "for index,row in sorted_PKB.iterrows():\n",
    "    tmp_sum=tmp_sum+(row[\"gdp_total\"]/sum(data[\"gdp_total\"]))*100\n",
    "    if tmp_sum<=80:\n",
    "        procent=tmp_sum\n",
    "        count=sorted_PKB.index.get_loc(index)+1\n",
    "    else:\n",
    "        break\n",
    "        \n",
    "count #24"
   ]
  },
  {
   "cell_type": "markdown",
   "metadata": {},
   "source": [
    "**zad. 8** Wyświetl wszystkie europejskie państwa, w których oczekiwana długość życia wynosi conajmniej 80 lat. "
   ]
  },
  {
   "cell_type": "code",
   "execution_count": 26,
   "metadata": {},
   "outputs": [
    {
     "data": {
      "text/html": [
       "<div>\n",
       "<style scoped>\n",
       "    .dataframe tbody tr th:only-of-type {\n",
       "        vertical-align: middle;\n",
       "    }\n",
       "\n",
       "    .dataframe tbody tr th {\n",
       "        vertical-align: top;\n",
       "    }\n",
       "\n",
       "    .dataframe thead th {\n",
       "        text-align: right;\n",
       "    }\n",
       "</style>\n",
       "<table border=\"1\" class=\"dataframe\">\n",
       "  <thead>\n",
       "    <tr style=\"text-align: right;\">\n",
       "      <th></th>\n",
       "      <th>female_BMI</th>\n",
       "      <th>male_BMI</th>\n",
       "      <th>gdp</th>\n",
       "      <th>population</th>\n",
       "      <th>under5mortality</th>\n",
       "      <th>life_expectancy</th>\n",
       "      <th>fertility</th>\n",
       "      <th>continent</th>\n",
       "      <th>gdp_total</th>\n",
       "    </tr>\n",
       "  </thead>\n",
       "  <tbody>\n",
       "    <tr>\n",
       "      <td>Austria</td>\n",
       "      <td>25.09414</td>\n",
       "      <td>26.46741</td>\n",
       "      <td>43952.0</td>\n",
       "      <td>8331465.0</td>\n",
       "      <td>4.6</td>\n",
       "      <td>80.4</td>\n",
       "      <td>1.41</td>\n",
       "      <td>Europe</td>\n",
       "      <td>3.661845e+11</td>\n",
       "    </tr>\n",
       "    <tr>\n",
       "      <td>France</td>\n",
       "      <td>24.82949</td>\n",
       "      <td>25.85329</td>\n",
       "      <td>37505.0</td>\n",
       "      <td>62309529.0</td>\n",
       "      <td>4.3</td>\n",
       "      <td>81.1</td>\n",
       "      <td>1.97</td>\n",
       "      <td>Europe</td>\n",
       "      <td>2.336919e+12</td>\n",
       "    </tr>\n",
       "    <tr>\n",
       "      <td>Germany</td>\n",
       "      <td>25.73903</td>\n",
       "      <td>27.16509</td>\n",
       "      <td>41199.0</td>\n",
       "      <td>80665906.0</td>\n",
       "      <td>4.4</td>\n",
       "      <td>80.0</td>\n",
       "      <td>1.37</td>\n",
       "      <td>Europe</td>\n",
       "      <td>3.323355e+12</td>\n",
       "    </tr>\n",
       "    <tr>\n",
       "      <td>Greece</td>\n",
       "      <td>24.92026</td>\n",
       "      <td>26.33786</td>\n",
       "      <td>32197.0</td>\n",
       "      <td>11161755.0</td>\n",
       "      <td>4.9</td>\n",
       "      <td>80.2</td>\n",
       "      <td>1.46</td>\n",
       "      <td>Europe</td>\n",
       "      <td>3.593750e+11</td>\n",
       "    </tr>\n",
       "    <tr>\n",
       "      <td>Iceland</td>\n",
       "      <td>26.02599</td>\n",
       "      <td>27.20687</td>\n",
       "      <td>42294.0</td>\n",
       "      <td>310033.0</td>\n",
       "      <td>2.7</td>\n",
       "      <td>82.4</td>\n",
       "      <td>2.12</td>\n",
       "      <td>Europe</td>\n",
       "      <td>1.311254e+10</td>\n",
       "    </tr>\n",
       "    <tr>\n",
       "      <td>Ireland</td>\n",
       "      <td>26.62176</td>\n",
       "      <td>27.65325</td>\n",
       "      <td>47713.0</td>\n",
       "      <td>4480145.0</td>\n",
       "      <td>4.5</td>\n",
       "      <td>80.1</td>\n",
       "      <td>2.00</td>\n",
       "      <td>Europe</td>\n",
       "      <td>2.137612e+11</td>\n",
       "    </tr>\n",
       "    <tr>\n",
       "      <td>Italy</td>\n",
       "      <td>24.79289</td>\n",
       "      <td>26.48020</td>\n",
       "      <td>37475.0</td>\n",
       "      <td>59319234.0</td>\n",
       "      <td>4.1</td>\n",
       "      <td>81.5</td>\n",
       "      <td>1.39</td>\n",
       "      <td>Europe</td>\n",
       "      <td>2.222988e+12</td>\n",
       "    </tr>\n",
       "    <tr>\n",
       "      <td>Luxembourg</td>\n",
       "      <td>26.09326</td>\n",
       "      <td>27.43404</td>\n",
       "      <td>95001.0</td>\n",
       "      <td>485079.0</td>\n",
       "      <td>2.8</td>\n",
       "      <td>81.0</td>\n",
       "      <td>1.63</td>\n",
       "      <td>Europe</td>\n",
       "      <td>4.608299e+10</td>\n",
       "    </tr>\n",
       "    <tr>\n",
       "      <td>Malta</td>\n",
       "      <td>27.04993</td>\n",
       "      <td>27.68361</td>\n",
       "      <td>27872.0</td>\n",
       "      <td>406392.0</td>\n",
       "      <td>6.6</td>\n",
       "      <td>80.7</td>\n",
       "      <td>1.38</td>\n",
       "      <td>Europe</td>\n",
       "      <td>1.132696e+10</td>\n",
       "    </tr>\n",
       "    <tr>\n",
       "      <td>Netherlands</td>\n",
       "      <td>25.47269</td>\n",
       "      <td>26.01541</td>\n",
       "      <td>47388.0</td>\n",
       "      <td>16519862.0</td>\n",
       "      <td>4.8</td>\n",
       "      <td>80.3</td>\n",
       "      <td>1.77</td>\n",
       "      <td>Europe</td>\n",
       "      <td>7.828432e+11</td>\n",
       "    </tr>\n",
       "    <tr>\n",
       "      <td>Norway</td>\n",
       "      <td>25.73772</td>\n",
       "      <td>26.93424</td>\n",
       "      <td>65216.0</td>\n",
       "      <td>4771633.0</td>\n",
       "      <td>3.6</td>\n",
       "      <td>80.8</td>\n",
       "      <td>1.96</td>\n",
       "      <td>Europe</td>\n",
       "      <td>3.111868e+11</td>\n",
       "    </tr>\n",
       "    <tr>\n",
       "      <td>Spain</td>\n",
       "      <td>26.30554</td>\n",
       "      <td>27.49975</td>\n",
       "      <td>34676.0</td>\n",
       "      <td>45817016.0</td>\n",
       "      <td>5.0</td>\n",
       "      <td>81.1</td>\n",
       "      <td>1.42</td>\n",
       "      <td>Europe</td>\n",
       "      <td>1.588751e+12</td>\n",
       "    </tr>\n",
       "    <tr>\n",
       "      <td>Sweden</td>\n",
       "      <td>25.14660</td>\n",
       "      <td>26.37629</td>\n",
       "      <td>43421.0</td>\n",
       "      <td>9226333.0</td>\n",
       "      <td>3.2</td>\n",
       "      <td>81.1</td>\n",
       "      <td>1.92</td>\n",
       "      <td>Europe</td>\n",
       "      <td>4.006166e+11</td>\n",
       "    </tr>\n",
       "    <tr>\n",
       "      <td>Switzerland</td>\n",
       "      <td>24.07242</td>\n",
       "      <td>26.20195</td>\n",
       "      <td>55020.0</td>\n",
       "      <td>7646542.0</td>\n",
       "      <td>4.7</td>\n",
       "      <td>82.0</td>\n",
       "      <td>1.47</td>\n",
       "      <td>Europe</td>\n",
       "      <td>4.207127e+11</td>\n",
       "    </tr>\n",
       "  </tbody>\n",
       "</table>\n",
       "</div>"
      ],
      "text/plain": [
       "             female_BMI  male_BMI      gdp  population  under5mortality  \\\n",
       "Austria        25.09414  26.46741  43952.0   8331465.0              4.6   \n",
       "France         24.82949  25.85329  37505.0  62309529.0              4.3   \n",
       "Germany        25.73903  27.16509  41199.0  80665906.0              4.4   \n",
       "Greece         24.92026  26.33786  32197.0  11161755.0              4.9   \n",
       "Iceland        26.02599  27.20687  42294.0    310033.0              2.7   \n",
       "Ireland        26.62176  27.65325  47713.0   4480145.0              4.5   \n",
       "Italy          24.79289  26.48020  37475.0  59319234.0              4.1   \n",
       "Luxembourg     26.09326  27.43404  95001.0    485079.0              2.8   \n",
       "Malta          27.04993  27.68361  27872.0    406392.0              6.6   \n",
       "Netherlands    25.47269  26.01541  47388.0  16519862.0              4.8   \n",
       "Norway         25.73772  26.93424  65216.0   4771633.0              3.6   \n",
       "Spain          26.30554  27.49975  34676.0  45817016.0              5.0   \n",
       "Sweden         25.14660  26.37629  43421.0   9226333.0              3.2   \n",
       "Switzerland    24.07242  26.20195  55020.0   7646542.0              4.7   \n",
       "\n",
       "             life_expectancy  fertility continent     gdp_total  \n",
       "Austria                 80.4       1.41    Europe  3.661845e+11  \n",
       "France                  81.1       1.97    Europe  2.336919e+12  \n",
       "Germany                 80.0       1.37    Europe  3.323355e+12  \n",
       "Greece                  80.2       1.46    Europe  3.593750e+11  \n",
       "Iceland                 82.4       2.12    Europe  1.311254e+10  \n",
       "Ireland                 80.1       2.00    Europe  2.137612e+11  \n",
       "Italy                   81.5       1.39    Europe  2.222988e+12  \n",
       "Luxembourg              81.0       1.63    Europe  4.608299e+10  \n",
       "Malta                   80.7       1.38    Europe  1.132696e+10  \n",
       "Netherlands             80.3       1.77    Europe  7.828432e+11  \n",
       "Norway                  80.8       1.96    Europe  3.111868e+11  \n",
       "Spain                   81.1       1.42    Europe  1.588751e+12  \n",
       "Sweden                  81.1       1.92    Europe  4.006166e+11  \n",
       "Switzerland             82.0       1.47    Europe  4.207127e+11  "
      ]
     },
     "execution_count": 26,
     "metadata": {},
     "output_type": "execute_result"
    }
   ],
   "source": [
    "data.loc[(data[\"life_expectancy\"]>=80) & (data[\"continent\"]==\"Europe\")]"
   ]
  },
  {
   "cell_type": "markdown",
   "metadata": {},
   "source": [
    "**zad. 9** Znajdź państwo, które ma najbardziej zbliżone PKB do Polski. Spróbuj rozwiązać to zadanie w jednej linijce."
   ]
  },
  {
   "cell_type": "code",
   "execution_count": 27,
   "metadata": {},
   "outputs": [
    {
     "data": {
      "text/plain": [
       "('Malaysia', 28.0)"
      ]
     },
     "execution_count": 27,
     "metadata": {},
     "output_type": "execute_result"
    }
   ],
   "source": [
    "min(({index:abs(data[\"gdp\"].loc[\"Poland\"]-row[\"gdp\"]) for index, row in data.iterrows() if index!='Poland' }).items(), key=lambda x: x[1])"
   ]
  },
  {
   "cell_type": "markdown",
   "metadata": {},
   "source": [
    "**zad. 10 (ostatnie)**\n",
    " * Zobacz czy masz zainstalowaną bibliotekę `requests`, która sluży do wykonywania zapytań HTTP. Jeżeli nie, to zainstaluj ją. \n",
    " * Uruchom z funkcję `requests.get` podając jako argument link: `https://aws.random.cat/meow`. Wynik zapisz do zmiennej response.\n",
    " * Wykonaj metodę `json()` na zmiennej `response` która zwróci Ci słownik, w którym będzie klucz `file`. Zapisz wartość `file` do zmiennej `url`.\n",
    " * Zaimportuj `Image` i `display` z biblioteki `from IPython.core.display`.\n",
    " * Stwórz obiekt Image podając w konstruktorze zmienną `url`,a wynik zapisz do `image`.\n",
    " * Wykonaj funkcję `display` na obiekcie `image`.\n",
    " "
   ]
  },
  {
   "cell_type": "code",
   "execution_count": 28,
   "metadata": {},
   "outputs": [
    {
     "name": "stdout",
     "output_type": "stream",
     "text": [
      "Requirement already satisfied: request in c:\\programy\\anaconda\\lib\\site-packages (2019.4.13)\n",
      "Requirement already satisfied: setuptools in c:\\programy\\anaconda\\lib\\site-packages (from request) (41.4.0)\n",
      "Requirement already satisfied: get in c:\\programy\\anaconda\\lib\\site-packages (from request) (2019.4.13)\n",
      "Requirement already satisfied: post in c:\\programy\\anaconda\\lib\\site-packages (from request) (2019.4.13)\n",
      "Requirement already satisfied: query-string in c:\\programy\\anaconda\\lib\\site-packages (from get->request) (2019.4.13)\n",
      "Requirement already satisfied: public in c:\\programy\\anaconda\\lib\\site-packages (from query-string->get->request) (2019.4.13)\n"
     ]
    },
    {
     "data": {
      "image/jpeg": "[encoded data removed]",
      "text/plain": [
       "<IPython.core.display.Image object>"
      ]
     },
     "metadata": {},
     "output_type": "display_data"
    }
   ],
   "source": [
    "! pip install request\n",
    "import requests\n",
    "requests = requests.get('https://aws.random.cat/meow')\n",
    "url=requests.json()['file']\n",
    "\n",
    "from IPython.core.display import display,Image\n",
    "image=Image(url)\n",
    "display(image)"
   ]
  }
 ],
 "metadata": {
  "kernelspec": {
   "display_name": "Python 3",
   "language": "python",
   "name": "python3"
  },
  "language_info": {
   "codemirror_mode": {
    "name": "ipython",
    "version": 3
   },
   "file_extension": ".py",
   "mimetype": "text/x-python",
   "name": "python",
   "nbconvert_exporter": "python",
   "pygments_lexer": "ipython3",
   "version": "3.7.4"
  }
 },
 "nbformat": 4,
 "nbformat_minor": 2
}
